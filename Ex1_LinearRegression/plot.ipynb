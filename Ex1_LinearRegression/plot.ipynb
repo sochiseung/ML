{
 "cells": [
  {
   "cell_type": "code",
   "execution_count": 14,
   "metadata": {
    "collapsed": true
   },
   "outputs": [],
   "source": [
    "f = open(\"PycharmProjects/ML/EX1_LinearRegression/ex1data1.txt\",'r')"
   ]
  },
  {
   "cell_type": "code",
   "execution_count": 27,
   "metadata": {},
   "outputs": [],
   "source": [
    "import pandas as pd\n",
    "data = pd.read_csv('PycharmProjects/ML/EX1_LinearRegression/ex1data1.csv')"
   ]
  },
  {
   "cell_type": "code",
   "execution_count": 28,
   "metadata": {},
   "outputs": [
    {
     "name": "stdout",
     "output_type": "stream",
     "text": [
      "   population   profit\n0      6.1101  17.5920\n1      5.5277   9.1302\n2      8.5186  13.6620\n3      7.0032  11.8540\n4      5.8598   6.8233\n"
     ]
    }
   ],
   "source": [
    "print data.head()"
   ]
  },
  {
   "cell_type": "code",
   "execution_count": 29,
   "metadata": {},
   "outputs": [
    {
     "name": "stdout",
     "output_type": "stream",
     "text": [
      "<class 'pandas.core.frame.DataFrame'>\nRangeIndex: 97 entries, 0 to 96\nData columns (total 2 columns):\npopulation    97 non-null float64\nprofit        97 non-null float64\ndtypes: float64(2)\nmemory usage: 1.6 KB\nNone\n"
     ]
    }
   ],
   "source": [
    "print data.info()"
   ]
  },
  {
   "cell_type": "code",
   "execution_count": 62,
   "metadata": {},
   "outputs": [
    {
     "name": "stdout",
     "output_type": "stream",
     "text": [
      "       population     profit\ncount   97.000000  97.000000\nmean     8.159800   5.839135\nstd      3.869884   5.510262\nmin      5.026900  -2.680700\n25%      5.707700   1.986900\n50%      6.589400   4.562300\n75%      8.578100   7.046700\nmax     22.203000  24.147000\n"
     ]
    }
   ],
   "source": [
    "print data.describe()"
   ]
  },
  {
   "cell_type": "code",
   "execution_count": 63,
   "metadata": {},
   "outputs": [
    {
     "data": {
      "text/plain": [
       "<matplotlib.text.Text at 0x11562c110>"
      ]
     },
     "execution_count": 63,
     "metadata": {},
     "output_type": "execute_result"
    }
   ],
   "source": [
    "from matplotlib import pyplot as plt\n",
    "data.plot(kind='scatter',  x='population', y ='profit', color='Blue', label='group1')\n",
    "plt.title(\"Scatter plot of training data\")\n",
    "plt.xlabel(\"Profit in $10,000s\")\n",
    "plt.ylabel('Population of City in 10,000s')"
   ]
  },
  {
   "cell_type": "code",
   "execution_count": 66,
   "metadata": {},
   "outputs": [],
   "source": [
    "plt.show()"
   ]
  },
  {
   "cell_type": "code",
   "execution_count": 70,
   "metadata": {},
   "outputs": [],
   "source": [
    "Y = data[[\"profit\"]].values"
   ]
  },
  {
   "cell_type": "code",
   "execution_count": 71,
   "metadata": {},
   "outputs": [
    {
     "data": {
      "text/plain": [
       "array([[ 17.592  ],\n       [  9.1302 ],\n       [ 13.662  ],\n       [ 11.854  ],\n       [  6.8233 ],\n       [ 11.886  ],\n       [  4.3483 ],\n       [ 12.     ],\n       [  6.5987 ],\n       [  3.8166 ],\n       [  3.2522 ],\n       [ 15.505  ],\n       [  3.1551 ],\n       [  7.2258 ],\n       [  0.71618],\n       [  3.5129 ],\n       [  5.3048 ],\n       [  0.56077],\n       [  3.6518 ],\n       [  5.3893 ],\n       [  3.1386 ],\n       [ 21.767  ],\n       [  4.263  ],\n       [  5.1875 ],\n       [  3.0825 ],\n       [ 22.638  ],\n       [ 13.501  ],\n       [  7.0467 ],\n       [ 14.692  ],\n       [ 24.147  ],\n       [ -1.22   ],\n       [  5.9966 ],\n       [ 12.134  ],\n       [  1.8495 ],\n       [  6.5426 ],\n       [  4.5623 ],\n       [  4.1164 ],\n       [  3.3928 ],\n       [ 10.117  ],\n       [  5.4974 ],\n       [  0.55657],\n       [  3.9115 ],\n       [  5.3854 ],\n       [  2.4406 ],\n       [  6.7318 ],\n       [  1.0463 ],\n       [  5.1337 ],\n       [  1.844  ],\n       [  8.0043 ],\n       [  1.0179 ],\n       [  6.7504 ],\n       [  1.8396 ],\n       [  4.2885 ],\n       [  4.9981 ],\n       [  1.4233 ],\n       [ -1.4211 ],\n       [  2.4756 ],\n       [  4.6042 ],\n       [  3.9624 ],\n       [  5.4141 ],\n       [  5.1694 ],\n       [ -0.74279],\n       [ 17.929  ],\n       [ 12.054  ],\n       [ 17.054  ],\n       [  4.8852 ],\n       [  5.7442 ],\n       [  7.7754 ],\n       [  1.0173 ],\n       [ 20.992  ],\n       [  6.6799 ],\n       [  4.0259 ],\n       [  1.2784 ],\n       [  3.3411 ],\n       [ -2.6807 ],\n       [  0.29678],\n       [  3.8845 ],\n       [  5.7014 ],\n       [  6.7526 ],\n       [  2.0576 ],\n       [  0.47953],\n       [  0.20421],\n       [  0.67861],\n       [  7.5435 ],\n       [  5.3436 ],\n       [  4.2415 ],\n       [  6.7981 ],\n       [  0.92695],\n       [  0.152  ],\n       [  2.8214 ],\n       [  1.8451 ],\n       [  4.2959 ],\n       [  7.2029 ],\n       [  1.9869 ],\n       [  0.14454],\n       [  9.0551 ],\n       [  0.61705]])"
      ]
     },
     "execution_count": 71,
     "metadata": {},
     "output_type": "execute_result"
    }
   ],
   "source": [
    "Y"
   ]
  },
  {
   "cell_type": "code",
   "execution_count": 69,
   "metadata": {},
   "outputs": [],
   "source": [
    "import numpy as np"
   ]
  },
  {
   "cell_type": "code",
   "execution_count": 80,
   "metadata": {},
   "outputs": [],
   "source": [
    "X_2 = data[[\"population\"]].values"
   ]
  },
  {
   "cell_type": "code",
   "execution_count": 75,
   "metadata": {},
   "outputs": [],
   "source": [
    "m = len(Y)\n",
    "X_1 = np.ones((m,1))"
   ]
  },
  {
   "cell_type": "code",
   "execution_count": 77,
   "metadata": {},
   "outputs": [
    {
     "data": {
      "text/plain": [
       "array([[ 1.],\n       [ 1.],\n       [ 1.],\n       [ 1.],\n       [ 1.],\n       [ 1.],\n       [ 1.],\n       [ 1.],\n       [ 1.],\n       [ 1.],\n       [ 1.],\n       [ 1.],\n       [ 1.],\n       [ 1.],\n       [ 1.],\n       [ 1.],\n       [ 1.],\n       [ 1.],\n       [ 1.],\n       [ 1.],\n       [ 1.],\n       [ 1.],\n       [ 1.],\n       [ 1.],\n       [ 1.],\n       [ 1.],\n       [ 1.],\n       [ 1.],\n       [ 1.],\n       [ 1.],\n       [ 1.],\n       [ 1.],\n       [ 1.],\n       [ 1.],\n       [ 1.],\n       [ 1.],\n       [ 1.],\n       [ 1.],\n       [ 1.],\n       [ 1.],\n       [ 1.],\n       [ 1.],\n       [ 1.],\n       [ 1.],\n       [ 1.],\n       [ 1.],\n       [ 1.],\n       [ 1.],\n       [ 1.],\n       [ 1.],\n       [ 1.],\n       [ 1.],\n       [ 1.],\n       [ 1.],\n       [ 1.],\n       [ 1.],\n       [ 1.],\n       [ 1.],\n       [ 1.],\n       [ 1.],\n       [ 1.],\n       [ 1.],\n       [ 1.],\n       [ 1.],\n       [ 1.],\n       [ 1.],\n       [ 1.],\n       [ 1.],\n       [ 1.],\n       [ 1.],\n       [ 1.],\n       [ 1.],\n       [ 1.],\n       [ 1.],\n       [ 1.],\n       [ 1.],\n       [ 1.],\n       [ 1.],\n       [ 1.],\n       [ 1.],\n       [ 1.],\n       [ 1.],\n       [ 1.],\n       [ 1.],\n       [ 1.],\n       [ 1.],\n       [ 1.],\n       [ 1.],\n       [ 1.],\n       [ 1.],\n       [ 1.],\n       [ 1.],\n       [ 1.],\n       [ 1.],\n       [ 1.],\n       [ 1.],\n       [ 1.]])"
      ]
     },
     "execution_count": 77,
     "metadata": {},
     "output_type": "execute_result"
    }
   ],
   "source": [
    "X_1"
   ]
  },
  {
   "cell_type": "code",
   "execution_count": 81,
   "metadata": {},
   "outputs": [
    {
     "data": {
      "text/plain": [
       "array([[  6.1101],\n       [  5.5277],\n       [  8.5186],\n       [  7.0032],\n       [  5.8598],\n       [  8.3829],\n       [  7.4764],\n       [  8.5781],\n       [  6.4862],\n       [  5.0546],\n       [  5.7107],\n       [ 14.164 ],\n       [  5.734 ],\n       [  8.4084],\n       [  5.6407],\n       [  5.3794],\n       [  6.3654],\n       [  5.1301],\n       [  6.4296],\n       [  7.0708],\n       [  6.1891],\n       [ 20.27  ],\n       [  5.4901],\n       [  6.3261],\n       [  5.5649],\n       [ 18.945 ],\n       [ 12.828 ],\n       [ 10.957 ],\n       [ 13.176 ],\n       [ 22.203 ],\n       [  5.2524],\n       [  6.5894],\n       [  9.2482],\n       [  5.8918],\n       [  8.2111],\n       [  7.9334],\n       [  8.0959],\n       [  5.6063],\n       [ 12.836 ],\n       [  6.3534],\n       [  5.4069],\n       [  6.8825],\n       [ 11.708 ],\n       [  5.7737],\n       [  7.8247],\n       [  7.0931],\n       [  5.0702],\n       [  5.8014],\n       [ 11.7   ],\n       [  5.5416],\n       [  7.5402],\n       [  5.3077],\n       [  7.4239],\n       [  7.6031],\n       [  6.3328],\n       [  6.3589],\n       [  6.2742],\n       [  5.6397],\n       [  9.3102],\n       [  9.4536],\n       [  8.8254],\n       [  5.1793],\n       [ 21.279 ],\n       [ 14.908 ],\n       [ 18.959 ],\n       [  7.2182],\n       [  8.2951],\n       [ 10.236 ],\n       [  5.4994],\n       [ 20.341 ],\n       [ 10.136 ],\n       [  7.3345],\n       [  6.0062],\n       [  7.2259],\n       [  5.0269],\n       [  6.5479],\n       [  7.5386],\n       [  5.0365],\n       [ 10.274 ],\n       [  5.1077],\n       [  5.7292],\n       [  5.1884],\n       [  6.3557],\n       [  9.7687],\n       [  6.5159],\n       [  8.5172],\n       [  9.1802],\n       [  6.002 ],\n       [  5.5204],\n       [  5.0594],\n       [  5.7077],\n       [  7.6366],\n       [  5.8707],\n       [  5.3054],\n       [  8.2934],\n       [ 13.394 ],\n       [  5.4369]])"
      ]
     },
     "execution_count": 81,
     "metadata": {},
     "output_type": "execute_result"
    }
   ],
   "source": [
    "X_2"
   ]
  },
  {
   "cell_type": "code",
   "execution_count": 83,
   "metadata": {},
   "outputs": [],
   "source": [
    "X = np.append(X_1,X_2)"
   ]
  },
  {
   "cell_type": "code",
   "execution_count": 85,
   "metadata": {},
   "outputs": [
    {
     "data": {
      "text/plain": [
       "array([  1.    ,   1.    ,   1.    ,   1.    ,   1.    ,   1.    ,\n         1.    ,   1.    ,   1.    ,   1.    ,   1.    ,   1.    ,\n         1.    ,   1.    ,   1.    ,   1.    ,   1.    ,   1.    ,\n         1.    ,   1.    ,   1.    ,   1.    ,   1.    ,   1.    ,\n         1.    ,   1.    ,   1.    ,   1.    ,   1.    ,   1.    ,\n         1.    ,   1.    ,   1.    ,   1.    ,   1.    ,   1.    ,\n         1.    ,   1.    ,   1.    ,   1.    ,   1.    ,   1.    ,\n         1.    ,   1.    ,   1.    ,   1.    ,   1.    ,   1.    ,\n         1.    ,   1.    ,   1.    ,   1.    ,   1.    ,   1.    ,\n         1.    ,   1.    ,   1.    ,   1.    ,   1.    ,   1.    ,\n         1.    ,   1.    ,   1.    ,   1.    ,   1.    ,   1.    ,\n         1.    ,   1.    ,   1.    ,   1.    ,   1.    ,   1.    ,\n         1.    ,   1.    ,   1.    ,   1.    ,   1.    ,   1.    ,\n         1.    ,   1.    ,   1.    ,   1.    ,   1.    ,   1.    ,\n         1.    ,   1.    ,   1.    ,   1.    ,   1.    ,   1.    ,\n         1.    ,   1.    ,   1.    ,   1.    ,   1.    ,   1.    ,\n         1.    ,   6.1101,   5.5277,   8.5186,   7.0032,   5.8598,\n         8.3829,   7.4764,   8.5781,   6.4862,   5.0546,   5.7107,\n        14.164 ,   5.734 ,   8.4084,   5.6407,   5.3794,   6.3654,\n         5.1301,   6.4296,   7.0708,   6.1891,  20.27  ,   5.4901,\n         6.3261,   5.5649,  18.945 ,  12.828 ,  10.957 ,  13.176 ,\n        22.203 ,   5.2524,   6.5894,   9.2482,   5.8918,   8.2111,\n         7.9334,   8.0959,   5.6063,  12.836 ,   6.3534,   5.4069,\n         6.8825,  11.708 ,   5.7737,   7.8247,   7.0931,   5.0702,\n         5.8014,  11.7   ,   5.5416,   7.5402,   5.3077,   7.4239,\n         7.6031,   6.3328,   6.3589,   6.2742,   5.6397,   9.3102,\n         9.4536,   8.8254,   5.1793,  21.279 ,  14.908 ,  18.959 ,\n         7.2182,   8.2951,  10.236 ,   5.4994,  20.341 ,  10.136 ,\n         7.3345,   6.0062,   7.2259,   5.0269,   6.5479,   7.5386,\n         5.0365,  10.274 ,   5.1077,   5.7292,   5.1884,   6.3557,\n         9.7687,   6.5159,   8.5172,   9.1802,   6.002 ,   5.5204,\n         5.0594,   5.7077,   7.6366,   5.8707,   5.3054,   8.2934,\n        13.394 ,   5.4369])"
      ]
     },
     "execution_count": 85,
     "metadata": {},
     "output_type": "execute_result"
    }
   ],
   "source": [
    "X"
   ]
  },
  {
   "cell_type": "code",
   "execution_count": 88,
   "metadata": {},
   "outputs": [
    {
     "data": {
      "text/plain": [
       "array([[  1.    ,   6.1101],\n       [  1.    ,   5.5277],\n       [  1.    ,   8.5186],\n       [  1.    ,   7.0032],\n       [  1.    ,   5.8598],\n       [  1.    ,   8.3829],\n       [  1.    ,   7.4764],\n       [  1.    ,   8.5781],\n       [  1.    ,   6.4862],\n       [  1.    ,   5.0546],\n       [  1.    ,   5.7107],\n       [  1.    ,  14.164 ],\n       [  1.    ,   5.734 ],\n       [  1.    ,   8.4084],\n       [  1.    ,   5.6407],\n       [  1.    ,   5.3794],\n       [  1.    ,   6.3654],\n       [  1.    ,   5.1301],\n       [  1.    ,   6.4296],\n       [  1.    ,   7.0708],\n       [  1.    ,   6.1891],\n       [  1.    ,  20.27  ],\n       [  1.    ,   5.4901],\n       [  1.    ,   6.3261],\n       [  1.    ,   5.5649],\n       [  1.    ,  18.945 ],\n       [  1.    ,  12.828 ],\n       [  1.    ,  10.957 ],\n       [  1.    ,  13.176 ],\n       [  1.    ,  22.203 ],\n       [  1.    ,   5.2524],\n       [  1.    ,   6.5894],\n       [  1.    ,   9.2482],\n       [  1.    ,   5.8918],\n       [  1.    ,   8.2111],\n       [  1.    ,   7.9334],\n       [  1.    ,   8.0959],\n       [  1.    ,   5.6063],\n       [  1.    ,  12.836 ],\n       [  1.    ,   6.3534],\n       [  1.    ,   5.4069],\n       [  1.    ,   6.8825],\n       [  1.    ,  11.708 ],\n       [  1.    ,   5.7737],\n       [  1.    ,   7.8247],\n       [  1.    ,   7.0931],\n       [  1.    ,   5.0702],\n       [  1.    ,   5.8014],\n       [  1.    ,  11.7   ],\n       [  1.    ,   5.5416],\n       [  1.    ,   7.5402],\n       [  1.    ,   5.3077],\n       [  1.    ,   7.4239],\n       [  1.    ,   7.6031],\n       [  1.    ,   6.3328],\n       [  1.    ,   6.3589],\n       [  1.    ,   6.2742],\n       [  1.    ,   5.6397],\n       [  1.    ,   9.3102],\n       [  1.    ,   9.4536],\n       [  1.    ,   8.8254],\n       [  1.    ,   5.1793],\n       [  1.    ,  21.279 ],\n       [  1.    ,  14.908 ],\n       [  1.    ,  18.959 ],\n       [  1.    ,   7.2182],\n       [  1.    ,   8.2951],\n       [  1.    ,  10.236 ],\n       [  1.    ,   5.4994],\n       [  1.    ,  20.341 ],\n       [  1.    ,  10.136 ],\n       [  1.    ,   7.3345],\n       [  1.    ,   6.0062],\n       [  1.    ,   7.2259],\n       [  1.    ,   5.0269],\n       [  1.    ,   6.5479],\n       [  1.    ,   7.5386],\n       [  1.    ,   5.0365],\n       [  1.    ,  10.274 ],\n       [  1.    ,   5.1077],\n       [  1.    ,   5.7292],\n       [  1.    ,   5.1884],\n       [  1.    ,   6.3557],\n       [  1.    ,   9.7687],\n       [  1.    ,   6.5159],\n       [  1.    ,   8.5172],\n       [  1.    ,   9.1802],\n       [  1.    ,   6.002 ],\n       [  1.    ,   5.5204],\n       [  1.    ,   5.0594],\n       [  1.    ,   5.7077],\n       [  1.    ,   7.6366],\n       [  1.    ,   5.8707],\n       [  1.    ,   5.3054],\n       [  1.    ,   8.2934],\n       [  1.    ,  13.394 ],\n       [  1.    ,   5.4369]])"
      ]
     },
     "execution_count": 88,
     "metadata": {},
     "output_type": "execute_result"
    }
   ],
   "source": [
    "np.hstack((X_1,X_2))"
   ]
  },
  {
   "cell_type": "code",
   "execution_count": 90,
   "metadata": {},
   "outputs": [
    {
     "data": {
      "text/plain": [
       "array([[ 0.],\n       [ 0.]])"
      ]
     },
     "execution_count": 90,
     "metadata": {},
     "output_type": "execute_result"
    }
   ],
   "source": [
    "np.zeros((2,1))"
   ]
  },
  {
   "cell_type": "code",
   "execution_count": 127,
   "metadata": {},
   "outputs": [
    {
     "data": {
      "text/plain": [
       "32.072733877455669"
      ]
     },
     "execution_count": 127,
     "metadata": {},
     "output_type": "execute_result"
    }
   ],
   "source": [
    "h = X.dot(theta)\n",
    "Z = h-Y\n",
    "A = (((Z.T).dot(Z))[0][0])/(2*m)\n",
    "A"
   ]
  },
  {
   "cell_type": "code",
   "execution_count": 129,
   "metadata": {},
   "outputs": [
    {
     "data": {
      "text/plain": [
       "array([[ 0.],\n       [ 0.]])"
      ]
     },
     "execution_count": 129,
     "metadata": {},
     "output_type": "execute_result"
    }
   ],
   "source": [
    "theta"
   ]
  },
  {
   "cell_type": "code",
   "execution_count": 133,
   "metadata": {},
   "outputs": [
    {
     "data": {
      "text/plain": [
       "array([[ 1.],\n       [ 0.]])"
      ]
     },
     "execution_count": 133,
     "metadata": {},
     "output_type": "execute_result"
    }
   ],
   "source": [
    "theta[0] = 1\n",
    "theta"
   ]
  },
  {
   "cell_type": "code",
   "execution_count": 135,
   "metadata": {},
   "outputs": [
    {
     "data": {
      "text/plain": [
       "[0, 1, 2, 3, 4]"
      ]
     },
     "execution_count": 135,
     "metadata": {},
     "output_type": "execute_result"
    }
   ],
   "source": [
    "range(5)"
   ]
  },
  {
   "cell_type": "code",
   "execution_count": 139,
   "metadata": {},
   "outputs": [
    {
     "data": {
      "text/plain": [
       "array([[ 0.]])"
      ]
     },
     "execution_count": 139,
     "metadata": {},
     "output_type": "execute_result"
    }
   ],
   "source": [
    "np.ndarray([1,2]).dot(theta)"
   ]
  },
  {
   "cell_type": "code",
   "execution_count": 145,
   "metadata": {},
   "outputs": [
    {
     "data": {
      "text/plain": [
       "array([[ -5.83913505],\n       [-65.32884975]])"
      ]
     },
     "execution_count": 145,
     "metadata": {},
     "output_type": "execute_result"
    }
   ],
   "source": [
    "X.T.dot(Z)/m"
   ]
  },
  {
   "cell_type": "code",
   "execution_count": 155,
   "metadata": {},
   "outputs": [],
   "source": [
    "a = np.array([[1],[1]])\n",
    "b =np.array([[1, 3.5]])"
   ]
  },
  {
   "cell_type": "code",
   "execution_count": null,
   "metadata": {},
   "outputs": [],
   "source": [
    "b.dot(a)"
   ]
  },
  {
   "cell_type": "code",
   "execution_count": null,
   "outputs": [],
   "source": [
    ""
   ]
  }
 ],
 "metadata": {
  "kernelspec": {
   "display_name": "Python 2",
   "language": "python",
   "name": "python2"
  },
  "language_info": {
   "codemirror_mode": {
    "name": "ipython",
    "version": 2.0
   },
   "file_extension": ".py",
   "mimetype": "text/x-python",
   "name": "python",
   "nbconvert_exporter": "python",
   "pygments_lexer": "ipython2",
   "version": "2.7.6"
  }
 },
 "nbformat": 4,
 "nbformat_minor": 0
}